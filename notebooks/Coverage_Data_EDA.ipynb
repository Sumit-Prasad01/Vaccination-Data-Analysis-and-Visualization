{
 "cells": [
  {
   "cell_type": "markdown",
   "id": "6b41ba8e",
   "metadata": {},
   "source": [
    "# Coverage Data Analysis and EDA "
   ]
  },
  {
   "cell_type": "code",
   "execution_count": 1,
   "id": "9eded2aa",
   "metadata": {},
   "outputs": [],
   "source": [
    "import pandas as pd\n",
    "import numpy as np\n",
    "import matplotlib.pyplot as plt\n",
    "import seaborn as sns"
   ]
  },
  {
   "cell_type": "markdown",
   "id": "151460fa",
   "metadata": {},
   "source": [
    "# Load Coverage Dataset"
   ]
  },
  {
   "cell_type": "code",
   "execution_count": null,
   "id": "c5864167",
   "metadata": {},
   "outputs": [],
   "source": [
    "df = pd.read_excel(\"../data/raw/\")"
   ]
  }
 ],
 "metadata": {
  "kernelspec": {
   "display_name": ".venv",
   "language": "python",
   "name": "python3"
  },
  "language_info": {
   "codemirror_mode": {
    "name": "ipython",
    "version": 3
   },
   "file_extension": ".py",
   "mimetype": "text/x-python",
   "name": "python",
   "nbconvert_exporter": "python",
   "pygments_lexer": "ipython3",
   "version": "3.12.4"
  }
 },
 "nbformat": 4,
 "nbformat_minor": 5
}
