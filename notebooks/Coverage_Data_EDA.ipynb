{
 "cells": [
  {
   "cell_type": "markdown",
   "id": "6b41ba8e",
   "metadata": {},
   "source": [
    "# Coverage Data Analysis and EDA "
   ]
  },
  {
   "cell_type": "code",
   "execution_count": 2,
   "id": "9eded2aa",
   "metadata": {},
   "outputs": [],
   "source": [
    "import pandas as pd\n",
    "import numpy as np\n",
    "import matplotlib.pyplot as plt\n",
    "import seaborn as sns"
   ]
  },
  {
   "cell_type": "code",
   "execution_count": 3,
   "id": "c5864167",
   "metadata": {},
   "outputs": [],
   "source": [
    "df_raw = pd.read_excel(\"../data/raw/coverage-data.xlsx\")"
   ]
  },
  {
   "cell_type": "code",
   "execution_count": 5,
   "id": "877641a9",
   "metadata": {},
   "outputs": [],
   "source": [
    "df_clean = pd.read_csv(\"../data/processed/coverage_data_cleaned.csv\")"
   ]
  },
  {
   "cell_type": "code",
   "execution_count": 6,
   "id": "cc5b09d7",
   "metadata": {},
   "outputs": [
    {
     "data": {
      "text/plain": [
       "GROUP                                 0\n",
       "CODE                                  1\n",
       "NAME                               1275\n",
       "YEAR                                  1\n",
       "ANTIGEN                               1\n",
       "ANTIGEN_DESCRIPTION                   1\n",
       "COVERAGE_CATEGORY                     1\n",
       "COVERAGE_CATEGORY_DESCRIPTION         1\n",
       "TARGET_NUMBER                    320829\n",
       "DOSES                            320532\n",
       "COVERAGE                         169382\n",
       "dtype: int64"
      ]
     },
     "execution_count": 6,
     "metadata": {},
     "output_type": "execute_result"
    }
   ],
   "source": [
    "df_raw.isna().sum()"
   ]
  },
  {
   "cell_type": "code",
   "execution_count": 7,
   "id": "7ad57f5b",
   "metadata": {},
   "outputs": [
    {
     "data": {
      "text/plain": [
       "group                            0\n",
       "code                             0\n",
       "name                             0\n",
       "year                             0\n",
       "antigen                          0\n",
       "antigen_description              0\n",
       "coverage_category                0\n",
       "coverage_category_description    0\n",
       "target_number                    0\n",
       "doses                            0\n",
       "coverage                         0\n",
       "drop_off_rate                    0\n",
       "does_coverage_ratio              0\n",
       "dtype: int64"
      ]
     },
     "execution_count": 7,
     "metadata": {},
     "output_type": "execute_result"
    }
   ],
   "source": [
    "df_clean.isna().sum()"
   ]
  }
 ],
 "metadata": {
  "kernelspec": {
   "display_name": ".venv",
   "language": "python",
   "name": "python3"
  },
  "language_info": {
   "codemirror_mode": {
    "name": "ipython",
    "version": 3
   },
   "file_extension": ".py",
   "mimetype": "text/x-python",
   "name": "python",
   "nbconvert_exporter": "python",
   "pygments_lexer": "ipython3",
   "version": "3.12.4"
  }
 },
 "nbformat": 4,
 "nbformat_minor": 5
}
